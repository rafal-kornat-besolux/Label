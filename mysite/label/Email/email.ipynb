{
 "cells": [
  {
   "cell_type": "code",
   "execution_count": 41,
   "metadata": {},
   "outputs": [],
   "source": [
    "import smtplib, ssl"
   ]
  },
  {
   "cell_type": "code",
   "execution_count": 42,
   "metadata": {},
   "outputs": [],
   "source": [
    "# message = \"\"\"\\\n",
    "# To: rafal.trachta@besolux.com;konrad.sygula@besolux.com\n",
    "# Cc: marcin.kielbik@besolux.com\n",
    "# Subject: Etykiety\n",
    "\n",
    "# Dzien dobry testy,\n",
    "\n",
    "# W zalaczniku etykiety do zamowien:\n",
    "\n",
    "# Prosimy o wylaczenie skalowania w ustawieniach wydruku etykiet, format etykiety zawarty jest w nazwie pliku.\n",
    "# Jesli etykieta po wydrukowaniu nie miesci sie na Panstwa formatce prosimy o informacje zwrotna.\n",
    "\n",
    "# Etykieta oznaczajaca produkt:\n",
    "# - nie moze byc porwana\n",
    "# - nie moze byc pomieta\n",
    "# - nie moze miec przerw w wydruku\n",
    "# - nie moze miec przebarwien\n",
    "# - musi byc rowno naklejona\n",
    "# - tekst na etykiecie musi byc czytelny\n",
    "# - kod kreskowy musi byc rozpoznawalny przez skaner\n",
    "\n",
    "# Wiadomosc wygenerowana automatycznie.\"\"\""
   ]
  },
  {
   "cell_type": "code",
   "execution_count": 43,
   "metadata": {},
   "outputs": [],
   "source": [
    "# smtp_server = \"smtp.gmail.com\"\n",
    "# password = \"WeronikaSlawek9*\"\n",
    "# port = 465 \n",
    "\n",
    "# toaddr = 'rafal.trachta@besolux.com'\n",
    "# cc = ['marcin.kielbik@besolux.com']\n",
    "# bcc = ['konrad.sygula@besolux.com']\n",
    "# fromaddr = 'rafal.kornat@besolux.com'\n",
    "# message_subject = \"Etykiety\"\n",
    "# message_text = \"\"\"\\\n",
    "# Dzien dobry testy,\n",
    "\n",
    "# W zalaczniku etykiety do zamowien:\n",
    "\n",
    "# Prosimy o wylaczenie skalowania w ustawieniach wydruku etykiet, format etykiety zawarty jest w nazwie pliku.\n",
    "# Jesli etykieta po wydrukowaniu nie miesci sie na Panstwa formatce prosimy o informacje zwrotna.\n",
    "\n",
    "# Etykieta oznaczajaca produkt:\n",
    "# - nie moze byc porwana\n",
    "# - nie moze byc pomieta\n",
    "# - nie moze miec przerw w wydruku\n",
    "# - nie moze miec przebarwien\n",
    "# - musi byc rowno naklejona\n",
    "# - tekst na etykiecie musi byc czytelny\n",
    "# - kod kreskowy musi byc rozpoznawalny przez skaner\n",
    "\n",
    "# Wiadomosc wygenerowana automatycznie.\"\"\"\n",
    "\n",
    "# message = \"From: %s\\r\\n\" % fromaddr + \"To: %s\\r\\n\" % toaddr+ \"CC: %s\\r\\n\" % \",\".join(cc)+ \"Subject: %s\\r\\n\" % message_subject+ \"\\r\\n\" + message_text\n",
    "# toaddrs = [toaddr] + cc + bcc\n",
    "\n",
    "# context = ssl.create_default_context()\n",
    "# with smtplib.SMTP_SSL(smtp_server, port, context=context) as server:\n",
    "#     server.login(fromaddr, password)\n",
    "#     server.sendmail(fromaddr, toaddrs, message)\n"
   ]
  },
  {
   "cell_type": "code",
   "execution_count": 1,
   "metadata": {},
   "outputs": [
    {
     "data": {
      "text/plain": [
       "<email_BESO.Mail at 0x197bbb18760>"
      ]
     },
     "execution_count": 1,
     "metadata": {},
     "output_type": "execute_result"
    }
   ],
   "source": [
    "import email_BESO as e\n",
    "\n",
    "e.Mail()"
   ]
  },
  {
   "cell_type": "code",
   "execution_count": 44,
   "metadata": {},
   "outputs": [],
   "source": [
    "# port = 465  # For SSL\n",
    "# smtp_server = \"smtp.gmail.com\"\n",
    "# sender_email = \"rafal.kornat@besolux.com\"  # Enter your address\n",
    "# receiver_email = \"rafal.trachta@besolux.com;konrad.sygula@besolux.com\"  # Enter receiver address\n",
    "# password = \"WeronikaSlawek9*\"\n",
    "\n",
    "# context = ssl.create_default_context()\n",
    "# with smtplib.SMTP_SSL(smtp_server, port, context=context) as server:\n",
    "#     server.login(sender_email, password)\n",
    "#     server.sendmail(sender_email, receiver_email, message)"
   ]
  },
  {
   "cell_type": "code",
   "execution_count": 1,
   "metadata": {},
   "outputs": [
    {
     "ename": "FileNotFoundError",
     "evalue": "[WinError 3] System nie może odnaleźć określonej ścieżki: 'Email'",
     "output_type": "error",
     "traceback": [
      "\u001b[1;31m---------------------------------------------------------------------------\u001b[0m",
      "\u001b[1;31mFileNotFoundError\u001b[0m                         Traceback (most recent call last)",
      "\u001b[1;32mC:\\Users\\KORNAT~1.RAF\\AppData\\Local\\Temp/ipykernel_19780/4028492009.py\u001b[0m in \u001b[0;36m<module>\u001b[1;34m\u001b[0m\n\u001b[0;32m      1\u001b[0m \u001b[1;32mimport\u001b[0m \u001b[0memail_universal\u001b[0m \u001b[1;32mas\u001b[0m \u001b[0memm\u001b[0m\u001b[1;33m\u001b[0m\u001b[1;33m\u001b[0m\u001b[0m\n\u001b[0;32m      2\u001b[0m \u001b[1;33m\u001b[0m\u001b[0m\n\u001b[1;32m----> 3\u001b[1;33m \u001b[0memm\u001b[0m\u001b[1;33m.\u001b[0m\u001b[0mx\u001b[0m\u001b[1;33m(\u001b[0m\u001b[1;33m)\u001b[0m\u001b[1;33m\u001b[0m\u001b[1;33m\u001b[0m\u001b[0m\n\u001b[0m",
      "\u001b[1;32mc:\\Users\\kornat.rafal\\Label3\\mysite\\label\\Email\\email_universal.py\u001b[0m in \u001b[0;36mx\u001b[1;34m()\u001b[0m\n\u001b[0;32m      2\u001b[0m     \u001b[1;32mimport\u001b[0m \u001b[0mos\u001b[0m\u001b[1;33m\u001b[0m\u001b[1;33m\u001b[0m\u001b[0m\n\u001b[0;32m      3\u001b[0m     \u001b[0mpath\u001b[0m \u001b[1;33m=\u001b[0m \u001b[1;34m\"Email\"\u001b[0m\u001b[1;33m\u001b[0m\u001b[1;33m\u001b[0m\u001b[0m\n\u001b[1;32m----> 4\u001b[1;33m     \u001b[0mlistOfFile\u001b[0m \u001b[1;33m=\u001b[0m \u001b[0mos\u001b[0m\u001b[1;33m.\u001b[0m\u001b[0mlistdir\u001b[0m\u001b[1;33m(\u001b[0m\u001b[0mpath\u001b[0m\u001b[1;33m)\u001b[0m\u001b[1;33m\u001b[0m\u001b[1;33m\u001b[0m\u001b[0m\n\u001b[0m\u001b[0;32m      5\u001b[0m     \u001b[0mprint\u001b[0m\u001b[1;33m(\u001b[0m\u001b[0mlistOfFile\u001b[0m\u001b[1;33m)\u001b[0m\u001b[1;33m\u001b[0m\u001b[1;33m\u001b[0m\u001b[0m\n",
      "\u001b[1;31mFileNotFoundError\u001b[0m: [WinError 3] System nie może odnaleźć określonej ścieżki: 'Email'"
     ]
    }
   ],
   "source": [
    "import email_universal as emm\n",
    "\n",
    "emm.x()\n"
   ]
  }
 ],
 "metadata": {
  "interpreter": {
   "hash": "a9ab183206884706c6262b846474215c698ffdaab5ae3e49f2a845f2305e816f"
  },
  "kernelspec": {
   "display_name": "Python 3.9.6 64-bit",
   "language": "python",
   "name": "python3"
  },
  "language_info": {
   "codemirror_mode": {
    "name": "ipython",
    "version": 3
   },
   "file_extension": ".py",
   "mimetype": "text/x-python",
   "name": "python",
   "nbconvert_exporter": "python",
   "pygments_lexer": "ipython3",
   "version": "3.9.6"
  },
  "orig_nbformat": 4
 },
 "nbformat": 4,
 "nbformat_minor": 2
}
