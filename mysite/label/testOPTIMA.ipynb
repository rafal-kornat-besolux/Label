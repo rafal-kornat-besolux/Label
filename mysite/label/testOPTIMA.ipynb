{
 "cells": [
  {
   "cell_type": "code",
   "execution_count": 18,
   "metadata": {},
   "outputs": [],
   "source": [
    "import os\n",
    "import tempfile\n",
    "import pandas as pd\n",
    "\n",
    "from office365.runtime.auth.user_credential import UserCredential\n",
    "from office365.sharepoint.client_context import ClientContext\n",
    "\n",
    "def shiping_schedule():\n",
    "    site_url = \"https://besolux.sharepoint.com/sites/SharePoint-Logistics\"\n",
    "    ctx = ClientContext(site_url).with_credentials(UserCredential(\"rafal.k@Besolux.onmicrosoft.com\", \"Bun19822\"))\n",
    "\n",
    "\n",
    "    file_url = \"/sites/SharePoint-Logistics/Shared Documents/SHIPPING_SCHEDULE_2022_v2.xlsx\"\n",
    "\n",
    "    download_path = os.path.join(tempfile.mkdtemp(), os.path.basename(file_url))\n",
    "    with open(download_path, \"wb\") as local_file:\n",
    "        file = ctx.web.get_file_by_server_relative_path(file_url).download(local_file).execute_query()\n",
    "    return download_path\n",
    "\n",
    "downloading_file = shiping_schedule()\n",
    "df_SS_FR = pd.read_excel(downloading_file, sheet_name=\"Dropshipping FR\")\n",
    "df=df_SS_FR\n",
    "indexArray = df[df[\"OPTIMAORDERNUMBER\"] == \"B2C/2022/000515/STX\"].index[0]\n",
    "\n",
    "\n",
    "date1 = df.loc[indexArray,\"CUSTOMER DATE YY/MM/DD\"]"
   ]
  },
  {
   "cell_type": "code",
   "execution_count": 29,
   "metadata": {},
   "outputs": [],
   "source": [
    "from datetime import datetime\n",
    "date2=datetime.strptime(date1,\"%d.%m.%Y\")"
   ]
  },
  {
   "cell_type": "code",
   "execution_count": 30,
   "metadata": {},
   "outputs": [
    {
     "data": {
      "text/plain": [
       "datetime.datetime(2022, 7, 21, 0, 0)"
      ]
     },
     "execution_count": 30,
     "metadata": {},
     "output_type": "execute_result"
    }
   ],
   "source": [
    "date2"
   ]
  }
 ],
 "metadata": {
  "kernelspec": {
   "display_name": "Python 3.9.6 64-bit",
   "language": "python",
   "name": "python3"
  },
  "language_info": {
   "codemirror_mode": {
    "name": "ipython",
    "version": 3
   },
   "file_extension": ".py",
   "mimetype": "text/x-python",
   "name": "python",
   "nbconvert_exporter": "python",
   "pygments_lexer": "ipython3",
   "version": "3.9.6"
  },
  "orig_nbformat": 4,
  "vscode": {
   "interpreter": {
    "hash": "bf4a2de3c2cf56078064b33d792988288dcfe4f636c808c2f3bbb20bf9ba5c1d"
   }
  }
 },
 "nbformat": 4,
 "nbformat_minor": 2
}
