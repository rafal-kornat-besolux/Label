{
 "cells": [
  {
   "cell_type": "code",
   "execution_count": 1,
   "metadata": {},
   "outputs": [],
   "source": [
    "dic={\"A\":3,\"B\":3}"
   ]
  },
  {
   "cell_type": "code",
   "execution_count": 4,
   "metadata": {},
   "outputs": [
    {
     "name": "stdout",
     "output_type": "stream",
     "text": [
      "A\n",
      "B\n"
     ]
    }
   ],
   "source": [
    "for i in dic:\n",
    "    print(i)"
   ]
  },
  {
   "cell_type": "code",
   "execution_count": 2,
   "metadata": {},
   "outputs": [],
   "source": [
    "df = pd.read_excel(path_MOD+\"\\\\\"+\"BESO LUX.xlsx\")\n",
    "ord = \"ORD/2021/000020/MOD\"\n",
    "df = df[df[\"ZAMÓWIENIE\"]==ord]\n",
    "dict={}\n",
    "for i in df.index:\n",
    "    dict[df.loc[i,\"REF\"]]={\n",
    "    \"infoFactory\":df.loc[i,\"numer zamówienia\"]\n",
    "    }\n"
   ]
  },
  {
   "cell_type": "code",
   "execution_count": 3,
   "metadata": {},
   "outputs": [
    {
     "data": {
      "text/plain": [
       "{'CXL_2S_2_F2_ALEXIS7': {'infoFactory': 'BL21 12013'},\n",
       " 'CXL_2S_2_F2_PROVENCE10': {'infoFactory': 'BL21 12014'},\n",
       " 'CXL_2S_2_F2_PROVENCE5': {'infoFactory': 'BL21 12015'},\n",
       " 'CXL_2S_2_F2_PROVENCE6': {'infoFactory': 'BL21 12016'},\n",
       " 'CXL_2S_63_F1_CAMILLE5': {'infoFactory': 'BL21 12017'},\n",
       " 'CXL_2S_63_F1_CAMILLE6': {'infoFactory': 'BL21 12018'},\n",
       " 'CXL_2S_65_F1_PARADIS3': {'infoFactory': 'BL21 12019'},\n",
       " 'CXL_2S_65_F1_PARADIS9': {'infoFactory': 'BL21 12020'},\n",
       " 'CXL_2S_70_F1_ALEXIS1': {'infoFactory': 'BL21 12021'},\n",
       " 'CXL_2S_70_F1_ALEXIS4': {'infoFactory': 'BL21 12022'},\n",
       " 'CXL_2S_70_F1_MARC3': {'infoFactory': 'BL21 12023'},\n",
       " 'CXL_2S_70_F1_PARIS2': {'infoFactory': 'BL21 12024'},\n",
       " 'CXL_2S_70_F1_PARIS6': {'infoFactory': 'BL21 12025'},\n",
       " 'CXL_2S_70_F1_PROVENCE2': {'infoFactory': 'BL21 12026'},\n",
       " 'CXL_2S_70_F1_PROVENCE9': {'infoFactory': 'BL21 12027'},\n",
       " 'CXL_2S_71_F1_MUSE3': {'infoFactory': 'BL21 12028'},\n",
       " 'CXL_2S_72_F1_MUSE2': {'infoFactory': 'BL21 12029'},\n",
       " 'CXL_2S_72_F1_MUSE3': {'infoFactory': 'BL21 12030'},\n",
       " 'CXL_3S_100_F1_TENDANCE1': {'infoFactory': 'BL21 12031'},\n",
       " 'CXL_3S_100_F1_TENDANCE7': {'infoFactory': 'BL21 12032'},\n",
       " 'CXL_3S_2_F2_ALEXIS10': {'infoFactory': 'BL21 12033'},\n",
       " 'CXL_3S_2_F2_ALEXIS5': {'infoFactory': 'BL21 12034'},\n",
       " 'CXL_3S_2_F2_PROVENCE3': {'infoFactory': 'BL21 12035'},\n",
       " 'CXL_3S_2_F2_PROVENCE4': {'infoFactory': 'BL21 12036'},\n",
       " 'CXL_3S_2_F2_PROVENCE6': {'infoFactory': 'BL21 12037'},\n",
       " 'CXL_3S_2_F2_PROVENCE9': {'infoFactory': 'BL21 12038'},\n",
       " 'CXL_3S_63_F1_CAMILLE4': {'infoFactory': 'BL21 12039'},\n",
       " 'CXL_3S_63_F1_CAMILLE5': {'infoFactory': 'BL21 12040'},\n",
       " 'CXL_3S_63_F1_CAMILLE6': {'infoFactory': 'BL21 12041'},\n",
       " 'CXL_3S_65_F1_PARADIS9': {'infoFactory': 'BL21 12042'},\n",
       " 'CXL_3S_68_F1_TENDANCE2': {'infoFactory': 'BL21 12043'},\n",
       " 'CXL_3S_68_F1_TENDANCE6': {'infoFactory': 'BL21 12044'},\n",
       " 'CXL_3S_68_F1_TENDANCE9': {'infoFactory': 'BL21 12045'},\n",
       " 'CXL_3S_70_F1_ALEXIS4': {'infoFactory': 'BL21 12046'},\n",
       " 'CXL_3S_70_F1_MARC10': {'infoFactory': 'BL21 12047'},\n",
       " 'CXL_3S_70_F1_PARIS1': {'infoFactory': 'BL21 12048'},\n",
       " 'CXL_3S_70_F1_PARIS6': {'infoFactory': 'BL21 12049'},\n",
       " 'CXL_3S_70_F1_PROVENCE2': {'infoFactory': 'BL21 12050'},\n",
       " 'CXL_3S_70_F1_TENDANCE1': {'infoFactory': 'BL21 12051'},\n",
       " 'CXL_3S_70_F1_TENDANCE10': {'infoFactory': 'BL21 12052'},\n",
       " 'CXL_3S_70_F1_TENDANCE5': {'infoFactory': 'BL21 12053'},\n",
       " 'CXL_3S_71_F1_CAMILLE5': {'infoFactory': 'BL21 12054'},\n",
       " 'CXL_3S_71_F1_MARC1': {'infoFactory': 'BL21 12055'},\n",
       " 'CXL_3S_71_F1_PARADIS4': {'infoFactory': 'BL21 12056'},\n",
       " 'CXL_3S_72_F1_MUSE1': {'infoFactory': 'BL21 12057'},\n",
       " 'CXL_3S_72_F1_MUSE2': {'infoFactory': 'BL21 12058'},\n",
       " 'CXL_3S_72_F1_MUSE6': {'infoFactory': 'BL21 12059'},\n",
       " 'CXL_4S_100_F1_TENDANCE2': {'infoFactory': 'BL21 12060'},\n",
       " 'CXL_4S_100_F1_TENDANCE5': {'infoFactory': 'BL21 12061'},\n",
       " 'CXL_4S_2_F1_PARIS5': {'infoFactory': 'BL21 12062'},\n",
       " 'CXL_4S_70_F1_PARIS10': {'infoFactory': 'BL21 12063'},\n",
       " 'CXL_4S_70_F1_PARIS2': {'infoFactory': 'BL21 12064'},\n",
       " 'CXL_4S_70_F1_TENDANCE1': {'infoFactory': 'BL21 12065'},\n",
       " 'CXL_4S_70_F1_TENDANCE10': {'infoFactory': 'BL21 12066'},\n",
       " 'CXL_4S_70_F1_TENDANCE6': {'infoFactory': 'BL21 12067'},\n",
       " 'CXL_ARM_2_F2_ALEXIS5': {'infoFactory': 'BL21 12068'},\n",
       " 'CXL_ARM_2_F2_PROVENCE1': {'infoFactory': 'BL21 12069'},\n",
       " 'CXL_ARM_2_F2_PROVENCE4': {'infoFactory': 'BL21 12070'},\n",
       " 'CXL_ARM_2_F2_PROVENCE6': {'infoFactory': 'BL21 12071'},\n",
       " 'CXL_ARM_2_F2_PROVENCE9': {'infoFactory': 'BL21 12072'},\n",
       " 'CXL_ARM_63_F1_CAMILLE4': {'infoFactory': 'BL21 12073'},\n",
       " 'CXL_ARM_63_F1_CAMILLE6': {'infoFactory': 'BL21 12074'},\n",
       " 'CXL_ARM_70_F1_PROVENCE10': {'infoFactory': 'BL21 12075'},\n",
       " 'CXL_ARM_70_F1_PROVENCE2': {'infoFactory': 'BL21 12076'},\n",
       " 'CXL_ARM_71_F1_CAMILLE5': {'infoFactory': 'BL21 12077'},\n",
       " 'CXL_ARM_72_F1_MUSE3': {'infoFactory': 'BL21 12078'},\n",
       " 'CXL_ARM_72_F1_MUSE6': {'infoFactory': 'BL21 12079'},\n",
       " 'CXL_CHS_70_F1_PARIS10': {'infoFactory': 'BL21 12080'},\n",
       " 'CXL_LC_100_F1_TENDANCE5': {'infoFactory': 'BL21 12081'},\n",
       " 'CXL_LC_2_F1_PARIS10': {'infoFactory': 'BL21 12082'},\n",
       " 'CXL_LC_2_F1_PARIS5': {'infoFactory': 'BL21 12083'},\n",
       " 'CXL_LC_2_F2_ALEXIS5': {'infoFactory': 'BL21 12084'},\n",
       " 'CXL_LC_2_F2_ALEXIS6': {'infoFactory': 'BL21 12085'},\n",
       " 'CXL_LC_2_F2_ALEXIS9': {'infoFactory': 'BL21 12086'},\n",
       " 'CXL_LC_2_F2_PROVENCE1': {'infoFactory': 'BL21 12087'},\n",
       " 'CXL_LC_2_F2_PROVENCE10': {'infoFactory': 'BL21 12088'},\n",
       " 'CXL_LC_67_F1_MUSE3': {'infoFactory': 'BL21 12089'},\n",
       " 'CXL_LC_70_F1_MARC6': {'infoFactory': 'BL21 12090'},\n",
       " 'CXL_LC_70_F1_TENDANCE1': {'infoFactory': 'BL21 12091'},\n",
       " 'CXL_LC_70_F1_TENDANCE6': {'infoFactory': 'BL21 12092'},\n",
       " 'CXL_LC_72_F1_MUSE3': {'infoFactory': 'BL21 12093'},\n",
       " 'CXL_LC_72_F1_MUSE6': {'infoFactory': 'BL21 12094'},\n",
       " 'CXL_LC_72_F1_MUSE8': {'infoFactory': 'BL21 12095'},\n",
       " 'CXL_LS_68_F1_TENDANCE4': {'infoFactory': 'BL21 12096'},\n",
       " 'CXL_LS_71_F1_MARC1': {'infoFactory': 'BL21 12097'},\n",
       " 'CXL_RC_100_F1_TENDANCE5': {'infoFactory': 'BL21 12098'},\n",
       " 'CXL_RC_2_F1_PARIS10': {'infoFactory': 'BL21 12099'},\n",
       " 'CXL_RC_2_F2_ALEXIS2': {'infoFactory': 'BL21 12100'},\n",
       " 'CXL_RC_63_F1_CAMILLE6': {'infoFactory': 'BL21 12101'},\n",
       " 'CXL_RC_68_F1_TENDANCE2': {'infoFactory': 'BL21 12102'},\n",
       " 'CXL_RC_68_F1_TENDANCE4': {'infoFactory': 'BL21 12103'},\n",
       " 'CXL_RC_68_F1_TENDANCE9': {'infoFactory': 'BL21 12104'},\n",
       " 'CXL_RC_70_F1_MARC9': {'infoFactory': 'BL21 12105'},\n",
       " 'CXL_RC_70_F1_TENDANCE1': {'infoFactory': 'BL21 12106'},\n",
       " 'CXL_RC_72_F1_MUSE6': {'infoFactory': 'BL21 12107'}}"
      ]
     },
     "execution_count": 3,
     "metadata": {},
     "output_type": "execute_result"
    }
   ],
   "source": [
    "dict\n"
   ]
  }
 ],
 "metadata": {
  "interpreter": {
   "hash": "bf4a2de3c2cf56078064b33d792988288dcfe4f636c808c2f3bbb20bf9ba5c1d"
  },
  "kernelspec": {
   "display_name": "Python 3.9.6 64-bit",
   "language": "python",
   "name": "python3"
  },
  "language_info": {
   "codemirror_mode": {
    "name": "ipython",
    "version": 3
   },
   "file_extension": ".py",
   "mimetype": "text/x-python",
   "name": "python",
   "nbconvert_exporter": "python",
   "pygments_lexer": "ipython3",
   "version": "3.9.6"
  },
  "orig_nbformat": 4
 },
 "nbformat": 4,
 "nbformat_minor": 2
}
